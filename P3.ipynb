{
 "cells": [
  {
   "cell_type": "markdown",
   "id": "429b8fea",
   "metadata": {},
   "source": [
    "### 3.\tGenerate three networks of 1000 nodes each using Random Network Model, Small World Network Model, Preferential Attachment Model and compare their characteristics."
   ]
  },
  {
   "cell_type": "markdown",
   "id": "ab897ff1",
   "metadata": {},
   "source": []
  }
 ],
 "metadata": {
  "language_info": {
   "name": "python"
  }
 },
 "nbformat": 4,
 "nbformat_minor": 5
}
